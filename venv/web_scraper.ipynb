{
 "cells": [
  {
   "cell_type": "code",
   "execution_count": 73,
   "metadata": {},
   "outputs": [],
   "source": [
    "import requests\n",
    "from bs4 import BeautifulSoup\n",
    "import pandas as pd\n",
    "import time\n",
    "from selenium import webdriver\n",
    "from webdriver_manager.chrome import ChromeDriverManager\n",
    "from selenium.webdriver.chrome.service import Service\n",
    "from selenium.webdriver.common.by import By\n",
    "from selenium.common.exceptions import NoSuchElementException"
   ]
  },
  {
   "cell_type": "code",
   "execution_count": 74,
   "metadata": {},
   "outputs": [],
   "source": [
    "# Set up the Selenium WebDriver\n",
    "service = Service(ChromeDriverManager().install())\n",
    "options = webdriver.ChromeOptions()\n",
    "options.add_argument('--headless')  # Run in headless mode (optional)\n",
    "driver = webdriver.Chrome(service=service, options=options)"
   ]
  },
  {
   "cell_type": "code",
   "execution_count": 75,
   "metadata": {},
   "outputs": [],
   "source": [
    "# Navigate to the website\n",
    "url = 'https://www.goodschools.com.au/compare-schools/search/in-victoria'\n",
    "driver.get(url)\n",
    "time.sleep(5)  # Wait for the page to load completely"
   ]
  },
  {
   "cell_type": "code",
   "execution_count": 76,
   "metadata": {},
   "outputs": [],
   "source": [
    "# Initialize data storage\n",
    "schools_data = []"
   ]
  },
  {
   "cell_type": "code",
   "execution_count": 77,
   "metadata": {},
   "outputs": [],
   "source": [
    "# # 抓取学校数据的循环\n",
    "# while len(schools_data) < 50:\n",
    "#     soup = BeautifulSoup(driver.page_source, 'html.parser')\n",
    "    \n",
    "#     # 获取每个学校的卡片\n",
    "#     school_cards = soup.find_all('div', class_='media-body')\n",
    "\n",
    "#     for card in school_cards:\n",
    "#         try:\n",
    "#             # 抓取学校名称\n",
    "#             name = card.find('h5', class_='mb-0 font-weight-bold').text.strip()\n",
    "\n",
    "#             # 抓取学校地址\n",
    "#             address = card.find('p', class_='primary-site').text.strip()\n",
    "\n",
    "#             # 抓取 sector 信息\n",
    "#             sector = None\n",
    "#             sector_divs = card.find_all('div', class_='col-md-3 col-6 small')\n",
    "#             for div in sector_divs:\n",
    "#                 if \"Sector\" in div.text:\n",
    "#                     sector = div.find_next_sibling('div').text.strip()\n",
    "#                     break\n",
    "\n",
    "#             # 将抓取到的数据加入列表\n",
    "#             schools_data.append({\n",
    "#                 'Name': name,\n",
    "#                 'Address': address,\n",
    "#                 'Sector': sector,\n",
    "#             })\n",
    "\n",
    "#             if len(schools_data) >= 50:\n",
    "#                 break\n",
    "\n",
    "#         except AttributeError:\n",
    "#             continue  # 如果某个字段缺失则跳过该项\n",
    "\n",
    "#     # 点击 \"Next\" 按钮进入下一页\n",
    "#     try:\n",
    "#         next_button = driver.find_element_by_link_text('Next')\n",
    "#         next_button.click()\n",
    "#         time.sleep(5)  # 等待下一页加载\n",
    "#     except:\n",
    "#         break  # 如果没有更多页面则退出循环\n",
    "\n",
    "# # 关闭 WebDriver\n",
    "# driver.quit()"
   ]
  },
  {
   "cell_type": "code",
   "execution_count": 78,
   "metadata": {},
   "outputs": [],
   "source": [
    "# sector 在外面抓，其他在里面抓，next有问题\n",
    "while len(schools_data) < 50:\n",
    "    soup = BeautifulSoup(driver.page_source, 'html.parser')\n",
    "\n",
    "    # 获取每个学校的卡片\n",
    "    school_cards = soup.find_all('div', class_='media-body')\n",
    "    \n",
    "    # 抓取 sector 信息 no data\n",
    "    sector = None\n",
    "    sector_divs = card.find_all('div', class_='col-md-3 col-6 small')\n",
    "    for div in sector_divs:\n",
    "        if \"Sector\" in div.text:\n",
    "            sector = div.find_next_sibling('div').text.strip()\n",
    "            break\n",
    "\n",
    "    for card in school_cards:\n",
    "        try:\n",
    "            # 抓取学校名称\n",
    "            name = card.find('h5', class_='mb-0 font-weight-bold').text.strip()\n",
    "\n",
    "            # 获取学校详情页链接\n",
    "            school_link = card.find('a', href=True)['href']\n",
    "            # school_url = f\"https://www.goodschools.com.au{school_link}\"\n",
    "            # print(school_url)  # 输出 URL 检查格式是否正确\n",
    "\n",
    "            # 进入学校详情页面\n",
    "            driver.get(school_link)\n",
    "            time.sleep(3)  # 等待详情页面加载\n",
    "            school_soup = BeautifulSoup(driver.page_source, 'html.parser')\n",
    "\n",
    "            # 抓取学校的 postcode 和 geolocation（假设 geolocation 可用）\n",
    "            try:\n",
    "                postcode = school_soup.find('span', class_='postal-code').text.strip()\n",
    "                geolocation = school_soup.find('span', class_='geo-coordinates').text.strip()\n",
    "            except AttributeError:\n",
    "                postcode = None\n",
    "                geolocation = None\n",
    "\n",
    "            # 抓取 academic results\n",
    "            try:\n",
    "                academic_results = school_soup.find('div', class_='academic-results').text.strip()\n",
    "            except AttributeError:\n",
    "                academic_results = \"N/A\"\n",
    "\n",
    "            # 将抓取到的数据加入列表\n",
    "            schools_data.append({\n",
    "                'Name': name,\n",
    "                'Postcode': postcode,\n",
    "                'Geolocation': geolocation,\n",
    "                'Sector': sector,\n",
    "                'Academic Results': academic_results\n",
    "            })\n",
    "\n",
    "            if len(schools_data) >= 50:\n",
    "                break\n",
    "\n",
    "        except AttributeError:\n",
    "            continue  # 如果某个字段缺失则跳过该项\n",
    "\n",
    "    # 返回到学校列表页面\n",
    "    driver.get(url)\n",
    "    time.sleep(5)  # 等待页面重新加载\n",
    "\n",
    "    # 点击 \"Next\" 按钮进入下一页\n",
    "    try:\n",
    "        next_button = driver.find_element(By.LINK_TEXT, 'Next')\n",
    "        next_button.click()\n",
    "        time.sleep(5)  # 等待下一页加载\n",
    "    except:\n",
    "        break  # 如果没有更多页面则退出循环\n",
    "\n",
    "# 关闭 WebDriver\n",
    "driver.quit()"
   ]
  },
  {
   "cell_type": "code",
   "execution_count": 79,
   "metadata": {},
   "outputs": [
    {
     "name": "stdout",
     "output_type": "stream",
     "text": [
      "[{'Name': 'Box Hill Senior Secondary College', 'Address': 'Mont Albert North VIC, Melbourne Eastern Suburbs', 'Sector': None}, {'Name': 'Brighton Grammar School', 'Address': 'Brighton VIC, Melbourne Southern Suburbs & Western Port', 'Sector': None}, {'Name': 'Carey Baptist Grammar School', 'Address': 'Kew VIC, Melbourne Eastern Suburbs', 'Sector': None}, {'Name': 'Centre for Higher Education Studies', 'Address': 'South Yarra', 'Sector': None}, {'Name': 'Genazzano FCJ College', 'Address': 'KEW VIC, Melbourne Eastern Suburbs', 'Sector': None}, {'Name': 'Heritage College', 'Address': 'Narre Warren South VIC, Melbourne Southern Suburbs & Western Port', 'Sector': None}, {'Name': \"St Catherine's School\", 'Address': 'Toorak VIC, Melbourne Southern Suburbs & Western Port', 'Sector': None}, {'Name': \"St Columba's College\", 'Address': 'Essendon VIC, Melbourne Western Suburbs', 'Sector': None}, {'Name': \"St Kevin's College\", 'Address': 'Toorak VIC, Melbourne Southern Suburbs & Western Port', 'Sector': None}, {'Name': 'Edinburgh College', 'Address': 'Lilydale VIC, Melbourne Eastern Suburbs', 'Sector': None}]\n",
      "Data extraction completed. CSV file has been saved.\n"
     ]
    }
   ],
   "source": [
    "# Save data to CSV\n",
    "df = pd.DataFrame(schools_data)\n",
    "print(schools_data) \n",
    "\n",
    "df.to_csv('victoria_secondary_schools.csv', index=False)\n",
    "\n",
    "print('Data extraction completed. CSV file has been saved.')\n"
   ]
  }
 ],
 "metadata": {
  "kernelspec": {
   "display_name": "venv",
   "language": "python",
   "name": "python3"
  },
  "language_info": {
   "codemirror_mode": {
    "name": "ipython",
    "version": 3
   },
   "file_extension": ".py",
   "mimetype": "text/x-python",
   "name": "python",
   "nbconvert_exporter": "python",
   "pygments_lexer": "ipython3",
   "version": "3.10.9"
  }
 },
 "nbformat": 4,
 "nbformat_minor": 2
}
